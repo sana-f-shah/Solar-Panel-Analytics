{
  "nbformat": 4,
  "nbformat_minor": 0,
  "metadata": {
    "colab": {
      "provenance": [],
      "authorship_tag": "ABX9TyM8Wk7Blvxi58cquQWHWvCl",
      "include_colab_link": true
    },
    "kernelspec": {
      "name": "python3",
      "display_name": "Python 3"
    },
    "language_info": {
      "name": "python"
    }
  },
  "cells": [
    {
      "cell_type": "markdown",
      "metadata": {
        "id": "view-in-github",
        "colab_type": "text"
      },
      "source": [
        "<a href=\"https://colab.research.google.com/github/sana-f-shah/Solar-Panel-Analytics/blob/main/notebooks/3a_regression_model_comparison.ipynb\" target=\"_parent\"><img src=\"https://colab.research.google.com/assets/colab-badge.svg\" alt=\"Open In Colab\"/></a>"
      ]
    },
    {
      "cell_type": "code",
      "execution_count": null,
      "metadata": {
        "colab": {
          "base_uri": "https://localhost:8080/"
        },
        "id": "gkjbK1ZsMpot",
        "outputId": "ece9c8c7-af7e-4c89-eb80-88202b7cdccb"
      },
      "outputs": [
        {
          "output_type": "stream",
          "name": "stdout",
          "text": [
            "Mounted at /content/drive\n"
          ]
        }
      ],
      "source": [
        "from google.colab import drive\n",
        "drive.mount('/content/drive')"
      ]
    },
    {
      "cell_type": "code",
      "source": [
        "import pandas as pd\n",
        "\n",
        "df = pd.read_parquet('/content/drive/MyDrive/Portfolio/Solar Panel Analytics/data_versions/original.parquet')"
      ],
      "metadata": {
        "id": "143QmRKSM5mJ"
      },
      "execution_count": null,
      "outputs": []
    },
    {
      "cell_type": "code",
      "source": [
        "print(df.columns)"
      ],
      "metadata": {
        "colab": {
          "base_uri": "https://localhost:8080/"
        },
        "id": "q_O5J5xqNA9c",
        "outputId": "12b168ba-41e8-48e8-9d8f-fe0b16b95d0b"
      },
      "execution_count": null,
      "outputs": [
        {
          "output_type": "stream",
          "name": "stdout",
          "text": [
            "Index(['Day', 'Month', 'Year', 'TempOut', 'OutHum', 'WindSpeed', 'Bar', 'Rain',\n",
            "       'RainRate', 'SolarEnergy', 'CoolD-D', 'InHum', 'ET', 'WindSamp',\n",
            "       'WindTx', 'ArcInt', 'WindDir_E', 'WindDir_ENE', 'WindDir_ESE',\n",
            "       'WindDir_N', 'WindDir_NE', 'WindDir_NNE', 'WindDir_NNW', 'WindDir_NW',\n",
            "       'WindDir_S', 'WindDir_SE', 'WindDir_SSE', 'WindDir_SSW', 'WindDir_SW',\n",
            "       'WindDir_Unknown', 'WindDir_W', 'WindDir_WNW', 'WindDir_WSW',\n",
            "       'Site_Easthill Road', 'Site_Elm Crescent', 'Site_Forest Road',\n",
            "       'Site_Maple Drive East', 'Site_YMCA'],\n",
            "      dtype='object')\n"
          ]
        }
      ]
    },
    {
      "cell_type": "code",
      "source": [
        "from sklearn.model_selection import train_test_split\n",
        "\n",
        "X = df.drop(columns='SolarEnergy')\n",
        "y = df['SolarEnergy']\n",
        "\n",
        "X_train, X_test, y_train, y_test = train_test_split(X, y, test_size=0.3, random_state=42)"
      ],
      "metadata": {
        "id": "0IO-N-dyNDKY"
      },
      "execution_count": null,
      "outputs": []
    },
    {
      "cell_type": "code",
      "source": [
        "results = {\n",
        "    'dataset': [],\n",
        "    'rmse': [],\n",
        "    'mae': [],\n",
        "    'mape (%)': [],\n",
        "    'median_ae': [],\n",
        "    'r2': [],\n",
        "    'mbe (bias)': []\n",
        "}"
      ],
      "metadata": {
        "id": "nx-mBtGOOyvp"
      },
      "execution_count": null,
      "outputs": []
    },
    {
      "cell_type": "code",
      "source": [
        "import pandas as pd\n",
        "from sklearn.ensemble import RandomForestRegressor\n",
        "from sklearn.linear_model import LinearRegression\n",
        "from sklearn.ensemble import GradientBoostingRegressor\n",
        "from sklearn.neighbors import KNeighborsRegressor\n",
        "import xgboost as xgb\n",
        "from sklearn.neural_network import MLPRegressor\n",
        "from sklearn.linear_model import BayesianRidge, ElasticNet\n",
        "from sklearn.metrics import mean_squared_error, r2_score, mean_absolute_error, median_absolute_error\n",
        "import numpy as np\n",
        "import joblib\n",
        "\n",
        "models = {\n",
        "    'Random Forest': RandomForestRegressor(n_estimators=100, random_state=42),\n",
        "    'Linear Regression': LinearRegression(),\n",
        "    'Gradient Boosting': GradientBoostingRegressor(random_state=42),\n",
        "    'K Neighbour': KNeighborsRegressor(n_neighbors=5),\n",
        "    'XGBoost': xgb.XGBRegressor(random_state=42),\n",
        "    'MLP': MLPRegressor(random_state=42),\n",
        "    'Bayesian Ridge': BayesianRidge(),\n",
        "    'Elastic Net': ElasticNet(random_state=42)\n",
        "}\n",
        "\n",
        "results = {\n",
        "    'model': [],\n",
        "    'r2': [],\n",
        "    'rmse': [],\n",
        "    'mae': [],\n",
        "    'mape (%)': [],\n",
        "    'median_ae': [],\n",
        "    'mbe': []\n",
        "}\n",
        "\n",
        "for name, model in models.items():\n",
        "    model.fit(X_train, y_train)\n",
        "    y_pred = model.predict(X_test)\n",
        "\n",
        "    rmse = np.sqrt(mean_squared_error(y_test, y_pred))\n",
        "    mae = mean_absolute_error(y_test, y_pred)\n",
        "    mape = np.mean(np.abs((y_test - y_pred) / y_test)) * 100\n",
        "    median_ae = median_absolute_error(y_test, y_pred)\n",
        "    r2 = r2_score(y_test, y_pred)\n",
        "    mbe = np.mean(y_pred - y_test)\n",
        "\n",
        "    results['model'].append(name)\n",
        "    results['rmse'].append(rmse)\n",
        "    results['mae'].append(mae)\n",
        "    results['mape (%)'].append(mape)\n",
        "    results['median_ae'].append(median_ae)\n",
        "    results['r2'].append(r2)\n",
        "    results['mbe'].append(mbe)\n",
        "\n",
        "    filename = f'{name.replace(\" \", \"_\").lower()}_model.pkl'\n",
        "    output_folder = f'/content/drive/MyDrive/Portfolio/Solar Panel Analytics/models/model_comparison/{filename}'\n",
        "    joblib.dump(model, output_folder)\n",
        "    print(f'Saved {name} model to {filename}')\n",
        "\n",
        "results_df = pd.DataFrame(results)\n",
        "print(results_df)"
      ],
      "metadata": {
        "colab": {
          "base_uri": "https://localhost:8080/"
        },
        "id": "m-qkwvK4NLOg",
        "outputId": "ee8fcf96-b4e6-413a-92dc-09305dfc4645"
      },
      "execution_count": null,
      "outputs": [
        {
          "output_type": "stream",
          "name": "stdout",
          "text": [
            "Saved Random Forest model to random_forest_model.pkl\n",
            "Saved Linear Regression model to linear_regression_model.pkl\n",
            "Saved Gradient Boosting model to gradient_boosting_model.pkl\n",
            "Saved K Neighbour model to k_neighbour_model.pkl\n",
            "Saved XGBoost model to xgboost_model.pkl\n",
            "Saved MLP model to mlp_model.pkl\n",
            "Saved Bayesian Ridge model to bayesian_ridge_model.pkl\n",
            "Saved Elastic Net model to elastic_net_model.pkl\n",
            "               model        r2      rmse       mae  mape (%)  median_ae  \\\n",
            "0      Random Forest  0.800203  3.418244  1.803683       inf   0.604600   \n",
            "1  Linear Regression  0.587770  4.909963  3.252818       inf   2.073636   \n",
            "2  Gradient Boosting  0.727770  3.990030  2.351932       inf   1.102145   \n",
            "3        K Neighbour  0.722682  4.027146  2.148610       inf   0.726000   \n",
            "4            XGBoost  0.805963  3.368609  1.932080       inf   0.865673   \n",
            "5                MLP  0.440663  5.719332  4.003838       inf   2.949761   \n",
            "6     Bayesian Ridge  0.587774  4.909943  3.251973       inf   2.071868   \n",
            "7        Elastic Net  0.508237  5.362736  3.532846       inf   2.253612   \n",
            "\n",
            "        mbe  \n",
            "0  0.016277  \n",
            "1  0.044842  \n",
            "2  0.032624  \n",
            "3 -0.417809  \n",
            "4  0.026480  \n",
            "5 -2.976196  \n",
            "6  0.044801  \n",
            "7  0.032993  \n"
          ]
        }
      ]
    }
  ]
}